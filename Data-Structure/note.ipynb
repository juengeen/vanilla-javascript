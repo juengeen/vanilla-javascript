{
 "cells": [
  {
   "cell_type": "code",
   "execution_count": null,
   "source": [
    "This folder contains JavaScript Data-Structures that I have learned through out my journey learning to code."
   ],
   "outputs": [],
   "metadata": {}
  }
 ],
 "metadata": {
  "orig_nbformat": 4,
  "language_info": {
   "name": "plaintext"
  }
 },
 "nbformat": 4,
 "nbformat_minor": 2
}